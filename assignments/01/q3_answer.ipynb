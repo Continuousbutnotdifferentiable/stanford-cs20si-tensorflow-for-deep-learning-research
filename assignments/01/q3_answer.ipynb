{
 "cells": [
  {
   "cell_type": "markdown",
   "metadata": {},
   "source": [
    "### 3a. Application of word embeddings"
   ]
  },
  {
   "cell_type": "markdown",
   "metadata": {},
   "source": [
    "e.g. Language modeling, Dependency parsing, named entity recognition."
   ]
  },
  {
   "cell_type": "markdown",
   "metadata": {},
   "source": [
    "### 3b. Visualize word embeddings and find interesting word relations"
   ]
  },
  {
   "cell_type": "markdown",
   "metadata": {},
   "source": [
    "* neariest points to days are months, years, minutes, year, decades\n",
    "* neariest points to long are short, good, few, well, light\n",
    "* neariest points to canada are africa, china, germany, india, europe"
   ]
  },
  {
   "cell_type": "markdown",
   "metadata": {},
   "source": [
    "### 3c. CBOW implementation"
   ]
  },
  {
   "cell_type": "markdown",
   "metadata": {},
   "source": [
    "Instead of implementing a CBOW for general text, I implemented for training\n",
    "embedding vectors for amino acids in particular.\n",
    "\n",
    "This code still needs to be refactored to make it more generalizable to any\n",
    "text. Will do after improving my tensorflow skills\n"
   ]
  },
  {
   "cell_type": "code",
   "execution_count": null,
   "metadata": {},
   "outputs": [],
   "source": []
  }
 ],
 "metadata": {
  "kernelspec": {
   "display_name": "Python 3",
   "language": "python",
   "name": "python3"
  },
  "language_info": {
   "codemirror_mode": {
    "name": "ipython",
    "version": 3
   },
   "file_extension": ".py",
   "mimetype": "text/x-python",
   "name": "python",
   "nbconvert_exporter": "python",
   "pygments_lexer": "ipython3",
   "version": "3.6.4"
  }
 },
 "nbformat": 4,
 "nbformat_minor": 2
}
